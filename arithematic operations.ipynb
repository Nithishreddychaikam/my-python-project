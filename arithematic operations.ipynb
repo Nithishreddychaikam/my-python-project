{
 "cells": [
  {
   "cell_type": "code",
   "execution_count": 29,
   "id": "0650639a-d09d-4908-b707-49ce80bd8786",
   "metadata": {},
   "outputs": [
    {
     "name": "stdin",
     "output_type": "stream",
     "text": [
      "give first number:  435\n",
      "give second number:  35678\n",
      "give operator:  /\n"
     ]
    },
    {
     "ename": "NameError",
     "evalue": "name 'opertator' is not defined",
     "output_type": "error",
     "traceback": [
      "\u001b[1;31m---------------------------------------------------------------------------\u001b[0m",
      "\u001b[1;31mNameError\u001b[0m                                 Traceback (most recent call last)",
      "Cell \u001b[1;32mIn[29], line 9\u001b[0m\n\u001b[0;32m      7\u001b[0m \u001b[38;5;28;01melif\u001b[39;00m operator\u001b[38;5;241m==\u001b[39m\u001b[38;5;124m\"\u001b[39m\u001b[38;5;124m-\u001b[39m\u001b[38;5;124m\"\u001b[39m:\n\u001b[0;32m      8\u001b[0m     \u001b[38;5;28mprint\u001b[39m(\u001b[38;5;124mf\u001b[39m\u001b[38;5;124m\"\u001b[39m\u001b[38;5;124msubtraction of two numbers is\u001b[39m\u001b[38;5;132;01m{\u001b[39;00mnum1\u001b[38;5;241m-\u001b[39mnum2\u001b[38;5;132;01m}\u001b[39;00m\u001b[38;5;124m\"\u001b[39m)\n\u001b[1;32m----> 9\u001b[0m \u001b[38;5;28;01melif\u001b[39;00m opertator\u001b[38;5;241m==\u001b[39m\u001b[38;5;124m\"\u001b[39m\u001b[38;5;124m*\u001b[39m\u001b[38;5;124m\"\u001b[39m:\n\u001b[0;32m     10\u001b[0m       \u001b[38;5;28mprint\u001b[39m(\u001b[38;5;124mf\u001b[39m\u001b[38;5;124m\"\u001b[39m\u001b[38;5;124mmultiplication of two numbers is\u001b[39m\u001b[38;5;132;01m{\u001b[39;00mnum1\u001b[38;5;241m*\u001b[39mnum2\u001b[38;5;132;01m}\u001b[39;00m\u001b[38;5;124m\"\u001b[39m)\n\u001b[0;32m     11\u001b[0m \u001b[38;5;28;01melse\u001b[39;00m:\n",
      "\u001b[1;31mNameError\u001b[0m: name 'opertator' is not defined"
     ]
    }
   ],
   "source": [
    "num1=int(input(\"give first number: \"))\n",
    "num2=int(input(\"give second number: \"))\n",
    "operator=input(\"give operator: \")\n",
    "\n",
    "if operator==\"+\":\n",
    "    print(f\"sum of two numbers is{num1+num2}\")\n",
    "elif operator==\"-\":\n",
    "    print(f\"subtraction of two numbers is{num1-num2}\")\n",
    "elif opertator==\"*\":\n",
    "      print(f\"multiplication of two numbers is{num1*num2}\")\n",
    "else:\n",
    "    print(f\"division of two numbers is{num1/num2}\")\n",
    "\n",
    "    \n"
   ]
  },
  {
   "cell_type": "code",
   "execution_count": null,
   "id": "30e99a96-2ade-4489-9d0c-a46826bbbd92",
   "metadata": {},
   "outputs": [],
   "source": []
  }
 ],
 "metadata": {
  "kernelspec": {
   "display_name": "Python 3 (ipykernel)",
   "language": "python",
   "name": "python3"
  },
  "language_info": {
   "codemirror_mode": {
    "name": "ipython",
    "version": 3
   },
   "file_extension": ".py",
   "mimetype": "text/x-python",
   "name": "python",
   "nbconvert_exporter": "python",
   "pygments_lexer": "ipython3",
   "version": "3.12.7"
  }
 },
 "nbformat": 4,
 "nbformat_minor": 5
}
